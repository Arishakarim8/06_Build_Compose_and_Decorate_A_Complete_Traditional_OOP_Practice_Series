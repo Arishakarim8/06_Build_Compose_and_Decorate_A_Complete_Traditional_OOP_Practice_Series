{
  "nbformat": 4,
  "nbformat_minor": 0,
  "metadata": {
    "colab": {
      "provenance": [],
      "authorship_tag": "ABX9TyOldqN2AbUpwCM7avPWM9Y7",
      "include_colab_link": true
    },
    "kernelspec": {
      "name": "python3",
      "display_name": "Python 3"
    },
    "language_info": {
      "name": "python"
    }
  },
  "cells": [
    {
      "cell_type": "markdown",
      "metadata": {
        "id": "view-in-github",
        "colab_type": "text"
      },
      "source": [
        "<a href=\"https://colab.research.google.com/github/Arishakarim8/06_Build_Compose_and_Decorate_A_Complete_Traditional_OOP_Practice_Series/blob/main/03.Public_Variables_and_Methods/main.ipynb\" target=\"_parent\"><img src=\"https://colab.research.google.com/assets/colab-badge.svg\" alt=\"Open In Colab\"/></a>"
      ]
    },
    {
      "cell_type": "code",
      "execution_count": 20,
      "metadata": {
        "colab": {
          "base_uri": "https://localhost:8080/"
        },
        "id": "QnUjkDu7YYDJ",
        "outputId": "44178949-2740-4072-a6a5-45e1f8ee2b31"
      },
      "outputs": [
        {
          "output_type": "stream",
          "name": "stdout",
          "text": [
            "Car brand: Toyota\n",
            "Toyota car started!\n"
          ]
        }
      ],
      "source": [
        " class Car:\n",
        "  def __init__(self , brand):\n",
        "    self.brand = brand\n",
        "\n",
        "  def start(self):\n",
        "    print(f\"{self.brand} car started!\")\n",
        "\n",
        "my_car = Car(\"Toyota\")\n",
        "\n",
        "print(\"Car brand:\", my_car.brand)\n",
        "\n",
        "my_car.start()"
      ]
    }
  ]
}