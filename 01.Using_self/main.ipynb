{
  "nbformat": 4,
  "nbformat_minor": 0,
  "metadata": {
    "colab": {
      "provenance": [],
      "authorship_tag": "ABX9TyP2KRqwVvnx5N7Y8514YO88",
      "include_colab_link": true
    },
    "kernelspec": {
      "name": "python3",
      "display_name": "Python 3"
    },
    "language_info": {
      "name": "python"
    }
  },
  "cells": [
    {
      "cell_type": "markdown",
      "metadata": {
        "id": "view-in-github",
        "colab_type": "text"
      },
      "source": [
        "<a href=\"https://colab.research.google.com/github/Arishakarim8/06_Build_Compose_and_Decorate_A_Complete_Traditional_OOP_Practice_Series/blob/main/01.Using_self/main.ipynb\" target=\"_parent\"><img src=\"https://colab.research.google.com/assets/colab-badge.svg\" alt=\"Open In Colab\"/></a>"
      ]
    },
    {
      "cell_type": "code",
      "execution_count": 6,
      "metadata": {
        "colab": {
          "base_uri": "https://localhost:8080/"
        },
        "id": "QnUjkDu7YYDJ",
        "outputId": "5d9f8ca0-d6de-4060-e610-c177fb5086ab"
      },
      "outputs": [
        {
          "output_type": "stream",
          "name": "stdout",
          "text": [
            "Student Name: Arisha\n",
            "Marks: 85\n"
          ]
        }
      ],
      "source": [
        "\n",
        "class Student:\n",
        "    def __init__(self , name , marks):\n",
        "     self.name = name\n",
        "     self.marks = marks\n",
        "\n",
        "    def display(self):\n",
        "      print(f\"Student Name: {self.name}\")\n",
        "      print(f\"Marks: {self.marks}\")\n",
        "\n",
        "student1 = Student(\"Arisha\", 85)\n",
        "\n",
        "student1.display()"
      ]
    },
    {
      "cell_type": "code",
      "source": [],
      "metadata": {
        "id": "XbLoKjceZeyu"
      },
      "execution_count": null,
      "outputs": []
    }
  ]
}