{
  "nbformat": 4,
  "nbformat_minor": 0,
  "metadata": {
    "colab": {
      "provenance": [],
      "authorship_tag": "ABX9TyPH9crM0Uk/kKtsORi6JKG2",
      "include_colab_link": true
    },
    "kernelspec": {
      "name": "python3",
      "display_name": "Python 3"
    },
    "language_info": {
      "name": "python"
    }
  },
  "cells": [
    {
      "cell_type": "markdown",
      "metadata": {
        "id": "view-in-github",
        "colab_type": "text"
      },
      "source": [
        "<a href=\"https://colab.research.google.com/github/Arishakarim8/06_Build_Compose_and_Decorate_A_Complete_Traditional_OOP_Practice_Series/blob/main/12.%20Static%20Methods/main.ipynb\" target=\"_parent\"><img src=\"https://colab.research.google.com/assets/colab-badge.svg\" alt=\"Open In Colab\"/></a>"
      ]
    },
    {
      "cell_type": "code",
      "source": [
        "class TemperatureConverter:\n",
        "\n",
        "  @staticmethod\n",
        "  def celsius_to_fahrenheit(c):\n",
        "    f = c * 9 / 5 + 32\n",
        "    return f\n",
        "\n",
        "C = 1\n",
        "print(\"1°C in Fahrenheit is:\", TemperatureConverter.celsius_to_fahrenheit(C))\n",
        "\n"
      ],
      "metadata": {
        "colab": {
          "base_uri": "https://localhost:8080/"
        },
        "id": "EALFvjnS_Ysk",
        "outputId": "29844cdd-288a-49bb-e736-c8d9b17ba272"
      },
      "execution_count": 26,
      "outputs": [
        {
          "output_type": "stream",
          "name": "stdout",
          "text": [
            "1°C in Fahrenheit is: 33.8\n"
          ]
        }
      ]
    }
  ]
}