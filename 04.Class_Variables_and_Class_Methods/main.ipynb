{
  "nbformat": 4,
  "nbformat_minor": 0,
  "metadata": {
    "colab": {
      "provenance": [],
      "authorship_tag": "ABX9TyMFlSlunPdagAsvEtuVmAWV",
      "include_colab_link": true
    },
    "kernelspec": {
      "name": "python3",
      "display_name": "Python 3"
    },
    "language_info": {
      "name": "python"
    }
  },
  "cells": [
    {
      "cell_type": "markdown",
      "metadata": {
        "id": "view-in-github",
        "colab_type": "text"
      },
      "source": [
        "<a href=\"https://colab.research.google.com/github/Arishakarim8/06_Build_Compose_and_Decorate_A_Complete_Traditional_OOP_Practice_Series/blob/main/04.Class_Variables_and_Class_Methods/main.ipynb\" target=\"_parent\"><img src=\"https://colab.research.google.com/assets/colab-badge.svg\" alt=\"Open In Colab\"/></a>"
      ]
    },
    {
      "cell_type": "code",
      "execution_count": 13,
      "metadata": {
        "colab": {
          "base_uri": "https://localhost:8080/"
        },
        "id": "QnUjkDu7YYDJ",
        "outputId": "43a5da39-7a79-419e-89b6-1cccc4fa7c93"
      },
      "outputs": [
        {
          "output_type": "stream",
          "name": "stdout",
          "text": [
            "before change\n",
            "Customer Name : Arisha , Bank Name : Default Bank\n",
            "Customer Name : Ali , Bank Name : Default Bank\n",
            "after change\n",
            "Customer Name : Arisha , Bank Name : ABC Bank\n",
            "Customer Name : Ali , Bank Name : ABC Bank\n"
          ]
        }
      ],
      "source": [
        "class Bank:\n",
        "  bank_name = \"Default Bank\"\n",
        "\n",
        "  def __init__(self , customer_name):\n",
        "    self.customer_name = customer_name\n",
        "\n",
        "  @classmethod\n",
        "  def change_bank_name(cls, name):\n",
        "    cls.bank_name = name\n",
        "\n",
        "  def display_info(self):\n",
        "    print(f\"Customer Name : {self.customer_name} , Bank Name : {self.bank_name}\")\n",
        "\n",
        "print(\"before change\")\n",
        "customer1 = Bank(\"Arisha\")\n",
        "customer2 = Bank(\"Ali\")\n",
        "customer1.display_info()\n",
        "customer2.display_info()\n",
        "\n",
        "print(\"after change\")\n",
        "Bank.change_bank_name(\"ABC Bank\")\n",
        "customer1.display_info()\n",
        "customer2.display_info()\n",
        "\n",
        "\n"
      ]
    }
  ]
}